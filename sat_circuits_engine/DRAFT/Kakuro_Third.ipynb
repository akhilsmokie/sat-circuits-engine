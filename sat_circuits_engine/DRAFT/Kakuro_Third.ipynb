{
 "cells": [
  {
   "cell_type": "markdown",
   "id": "a5e4a9b5",
   "metadata": {},
   "source": [
    "# Classiq Coding Competition Spring 2022\n",
    "### Third Place Kakuro Submission by Marcelin Gallezot\n",
    "## Checking Oracle CX Count"
   ]
  },
  {
   "cell_type": "code",
   "execution_count": 1,
   "metadata": {},
   "outputs": [
    {
     "name": "stdout",
     "output_type": "stream",
     "text": [
      "Original oracle depth: 248\n",
      "Original operation count: OrderedDict([('u1', 143), ('cx', 142), ('u2', 70), ('u3', 20), ('barrier', 8)])\n",
      "Decomposed oracle depth: 196\n",
      "Decomposed operation count: OrderedDict([('cx', 142), ('u', 142), ('barrier', 8)])\n"
     ]
    }
   ],
   "source": [
    "from qiskit import QuantumCircuit\n",
    "\n",
    "qasm_str = \"\"\"OPENQASM 2.0;\n",
    "include \"qelib1.inc\";\n",
    "qreg x0[1];\n",
    "qreg x1[1];\n",
    "qreg x2[1];\n",
    "qreg x3[2];\n",
    "qreg x4[1];\n",
    "qreg x5[1];\n",
    "qreg x6[1];\n",
    "qreg a[11];\n",
    "qreg b[4];\n",
    "cx x2[0],x3[0];\n",
    "cx x0[0],x2[0];\n",
    "cx x1[0],x0[0];\n",
    "u3(pi,0,pi) x3[0];\n",
    "cx x5[0],x1[0];\n",
    "cx x6[0],x5[0];\n",
    "cx x4[0],x6[0];\n",
    "cx x2[0],a[0];\n",
    "cx x4[0],a[0];\n",
    "u2(0,pi) a[1];\n",
    "u1(pi/4) a[1];\n",
    "cx x4[0],a[1];\n",
    "u1(-pi/4) a[1];\n",
    "cx x2[0],a[1];\n",
    "u1(pi/4) a[1];\n",
    "cx x4[0],a[1];\n",
    "u1(-pi/4) a[1];\n",
    "u2(0,pi) a[1];\n",
    "u2(0,pi) a[2];\n",
    "u1(pi/4) a[2];\n",
    "u2(0,pi) a[3];\n",
    "u1(pi/4) a[3];\n",
    "u3(pi,0,pi) a[4];\n",
    "u2(0,pi) a[4];\n",
    "u1(pi/4) a[4];\n",
    "cx x3[1],a[4];\n",
    "u1(-pi/4) a[4];\n",
    "cx x3[0],a[4];\n",
    "u1(pi/4) a[4];\n",
    "cx x3[0],a[2];\n",
    "u1(-pi/4) a[2];\n",
    "cx a[0],a[2];\n",
    "u1(pi/4) a[2];\n",
    "cx x3[0],a[2];\n",
    "u1(-pi/4) a[2];\n",
    "u2(0,pi) a[2];\n",
    "cx x3[0],a[0];\n",
    "cx x3[1],a[4];\n",
    "u1(-pi/4) a[4];\n",
    "u2(0,pi) a[4];\n",
    "cx x3[1],a[3];\n",
    "u1(-pi/4) a[3];\n",
    "cx a[1],a[3];\n",
    "u1(pi/4) a[3];\n",
    "cx x3[1],a[3];\n",
    "u1(-pi/4) a[3];\n",
    "u2(0,pi) a[3];\n",
    "u2(0,pi) a[3];\n",
    "u1(pi/4) a[3];\n",
    "cx a[2],a[3];\n",
    "u1(-pi/4) a[3];\n",
    "cx x3[1],a[1];\n",
    "cx a[1],a[3];\n",
    "u1(pi/4) a[3];\n",
    "cx a[2],a[3];\n",
    "cx a[2],a[1];\n",
    "u1(-pi/4) a[3];\n",
    "u2(0,pi) a[3];\n",
    "u3(pi,0,pi) a[3];\n",
    "barrier x0[0],x1[0],x2[0],x3[0],x3[1],x4[0],x5[0],x6[0],a[0],a[1],a[2],a[3],a[4],a[5],a[6],a[7],a[8],a[9],a[10];\n",
    "u3(pi,0,pi) a[8];\n",
    "u2(0,pi) a[8];\n",
    "u1(pi/4) a[8];\n",
    "u3(pi,0,pi) a[9];\n",
    "u2(0,pi) a[9];\n",
    "u1(pi/4) a[9];\n",
    "cx x3[0],a[5];\n",
    "cx x1[0],a[5];\n",
    "cx x3[0],a[6];\n",
    "cx x4[0],a[6];\n",
    "cx x3[0],a[7];\n",
    "cx x5[0],a[7];\n",
    "cx a[7],a[8];\n",
    "u1(-pi/4) a[8];\n",
    "u2(0,pi) a[8];\n",
    "cx a[5],a[8];\n",
    "u1(pi/4) a[8];\n",
    "cx a[6],a[8];\n",
    "u1(-pi/4) a[8];\n",
    "cx a[5],a[8];\n",
    "u1(pi/4) a[8];\n",
    "cx a[6],a[8];\n",
    "u1(-pi/4) a[8];\n",
    "u2(0,pi) a[8];\n",
    "u1(pi/4) a[8];\n",
    "cx a[7],a[8];\n",
    "u1(-pi/4) a[8];\n",
    "u2(0,pi) a[8];\n",
    "cx a[8],a[9];\n",
    "u1(-pi/4) a[9];\n",
    "u3(pi,0,pi) x3[1];\n",
    "cx x3[1],a[9];\n",
    "u1(pi/4) a[9];\n",
    "cx a[8],a[9];\n",
    "u1(-pi/4) a[9];\n",
    "u2(0,pi) a[9];\n",
    "u3(pi,0,pi) x3[1];\n",
    "barrier x0[0],x1[0],x2[0],x3[0],x3[1],x4[0],x5[0],x6[0],a[0],a[1],a[2],a[3],a[4],a[5],a[6],a[7],a[8],a[9],a[10];\n",
    "u2(0,pi) a[10];\n",
    "u1(pi/4) a[10];\n",
    "u3(pi,0,pi) x3[0];\n",
    "cx x3[1],a[10];\n",
    "u1(-pi/4) a[10];\n",
    "cx x3[0],a[10];\n",
    "u1(pi/4) a[10];\n",
    "u3(pi,0,pi) x3[0];\n",
    "cx x3[1],a[10];\n",
    "u1(-pi/4) a[10];\n",
    "u2(0,pi) a[10];\n",
    "barrier x0[0],x1[0],x2[0],x3[0],x3[1],x4[0],x5[0],x6[0],a[0],a[1],a[2],a[3],a[4],a[5],a[6],a[7],a[8],a[9],a[10];\n",
    "barrier x0[0],x1[0],x2[0],x3[0],x3[1],x4[0],x5[0],x6[0],a[0],a[1],a[2],a[3],a[4],a[5],a[6],a[7],a[8],a[9],a[10];\n",
    "u3(pi/2,0,pi) a[10];\n",
    "u2(0,pi) a[10];\n",
    "cx a[9],a[10];\n",
    "u1(-pi/4) a[10];\n",
    "u2(0,pi) b[0];\n",
    "u1(pi/4) b[0];\n",
    "cx x2[0],b[0];\n",
    "u1(-pi/4) b[0];\n",
    "u2(0,pi) b[0];\n",
    "cx x0[0],b[0];\n",
    "u1(pi/4) b[0];\n",
    "cx x1[0],b[0];\n",
    "u1(-pi/4) b[0];\n",
    "cx x0[0],b[0];\n",
    "u1(pi/4) b[0];\n",
    "cx x1[0],b[0];\n",
    "u1(-pi/4) b[0];\n",
    "u2(0,pi) b[0];\n",
    "u1(pi/4) b[0];\n",
    "cx x2[0],b[0];\n",
    "u1(-pi/4) b[0];\n",
    "u2(0,pi) b[0];\n",
    "u2(0,pi) b[1];\n",
    "u1(pi/4) b[1];\n",
    "cx x6[0],b[1];\n",
    "u1(-pi/4) b[1];\n",
    "u2(0,pi) b[1];\n",
    "cx b[0],b[1];\n",
    "u1(pi/4) b[1];\n",
    "cx x5[0],b[1];\n",
    "u1(-pi/4) b[1];\n",
    "cx b[0],b[1];\n",
    "u1(pi/4) b[1];\n",
    "cx x5[0],b[1];\n",
    "u1(-pi/4) b[1];\n",
    "u2(0,pi) b[1];\n",
    "u1(pi/4) b[1];\n",
    "cx x6[0],b[1];\n",
    "u1(-pi/4) b[1];\n",
    "u2(0,pi) b[1];\n",
    "u2(0,pi) b[2];\n",
    "u1(pi/4) b[2];\n",
    "cx a[1],b[2];\n",
    "u1(-pi/4) b[2];\n",
    "u2(0,pi) b[2];\n",
    "cx b[1],b[2];\n",
    "u1(pi/4) b[2];\n",
    "cx a[0],b[2];\n",
    "u1(-pi/4) b[2];\n",
    "cx b[1],b[2];\n",
    "u1(pi/4) b[2];\n",
    "cx a[0],b[2];\n",
    "u1(-pi/4) b[2];\n",
    "u2(0,pi) b[2];\n",
    "u1(pi/4) b[2];\n",
    "cx a[1],b[2];\n",
    "u1(-pi/4) b[2];\n",
    "u2(0,pi) b[2];\n",
    "u2(0,pi) b[3];\n",
    "u1(pi/4) b[3];\n",
    "cx a[4],b[3];\n",
    "u1(-pi/4) b[3];\n",
    "u2(0,pi) b[3];\n",
    "cx b[2],b[3];\n",
    "u1(pi/4) b[3];\n",
    "cx a[3],b[3];\n",
    "u1(-pi/4) b[3];\n",
    "cx b[2],b[3];\n",
    "u1(pi/4) b[3];\n",
    "cx a[3],b[3];\n",
    "u1(-pi/4) b[3];\n",
    "u2(0,pi) b[3];\n",
    "u1(pi/4) b[3];\n",
    "cx a[4],b[3];\n",
    "u1(-pi/4) b[3];\n",
    "u2(0,pi) b[3];\n",
    "cx b[3],a[10];\n",
    "u1(pi/4) a[10];\n",
    "cx a[9],a[10];\n",
    "u1(-pi/4) a[10];\n",
    "u1(pi/4) a[9];\n",
    "cx b[3],a[10];\n",
    "u1(pi/4) a[10];\n",
    "u2(0,pi) a[10];\n",
    "u3(pi/2,0,pi) a[10];\n",
    "cx b[3],a[9];\n",
    "u1(-pi/4) a[9];\n",
    "u1(pi/4) b[3];\n",
    "cx b[3],a[9];\n",
    "u2(-2*pi,pi) b[3];\n",
    "u1(pi/4) b[3];\n",
    "cx a[4],b[3];\n",
    "u1(-pi/4) b[3];\n",
    "u2(-2*pi,pi) b[3];\n",
    "u1(pi/4) b[3];\n",
    "cx a[3],b[3];\n",
    "u1(-pi/4) b[3];\n",
    "cx b[2],b[3];\n",
    "u1(pi/4) b[3];\n",
    "cx a[3],b[3];\n",
    "u1(-pi/4) b[3];\n",
    "cx b[2],b[3];\n",
    "u2(-2*pi,pi) b[2];\n",
    "u1(pi/4) b[2];\n",
    "cx a[1],b[2];\n",
    "u1(-pi/4) b[2];\n",
    "u2(-2*pi,pi) b[2];\n",
    "u1(pi/4) b[2];\n",
    "cx a[0],b[2];\n",
    "u1(-pi/4) b[2];\n",
    "cx b[1],b[2];\n",
    "u1(pi/4) b[2];\n",
    "cx a[0],b[2];\n",
    "u1(-pi/4) b[2];\n",
    "cx b[1],b[2];\n",
    "u2(-2*pi,pi) b[1];\n",
    "u1(pi/4) b[1];\n",
    "cx x6[0],b[1];\n",
    "u1(-pi/4) b[1];\n",
    "u2(-2*pi,pi) b[1];\n",
    "u1(pi/4) b[1];\n",
    "cx x5[0],b[1];\n",
    "u1(-pi/4) b[1];\n",
    "cx b[0],b[1];\n",
    "u1(pi/4) b[1];\n",
    "cx x5[0],b[1];\n",
    "u1(-pi/4) b[1];\n",
    "cx b[0],b[1];\n",
    "u2(-2*pi,pi) b[0];\n",
    "u1(pi/4) b[0];\n",
    "cx x2[0],b[0];\n",
    "u1(-pi/4) b[0];\n",
    "u2(-2*pi,pi) b[0];\n",
    "u1(pi/4) b[0];\n",
    "cx x1[0],b[0];\n",
    "u1(-pi/4) b[0];\n",
    "cx x0[0],b[0];\n",
    "u1(pi/4) b[0];\n",
    "cx x1[0],b[0];\n",
    "u1(-pi/4) b[0];\n",
    "cx x0[0],b[0];\n",
    "u2(-2*pi,pi) b[0];\n",
    "u1(pi/4) b[0];\n",
    "cx x2[0],b[0];\n",
    "u1(-pi/4) b[0];\n",
    "u2(-2*pi,pi) b[0];\n",
    "u2(-2*pi,pi) b[1];\n",
    "u1(pi/4) b[1];\n",
    "cx x6[0],b[1];\n",
    "u1(-pi/4) b[1];\n",
    "u2(-2*pi,pi) b[1];\n",
    "u2(-2*pi,pi) b[2];\n",
    "u1(pi/4) b[2];\n",
    "cx a[1],b[2];\n",
    "u1(-pi/4) b[2];\n",
    "u2(-2*pi,pi) b[2];\n",
    "u2(-2*pi,pi) b[3];\n",
    "u1(pi/4) b[3];\n",
    "cx a[4],b[3];\n",
    "barrier x0[0],x1[0],x2[0],x3[0],x3[1],x4[0],x5[0],x6[0],a[0],a[1],a[2],a[3],a[4],a[5],a[6],a[7],a[8],a[9],a[10];\n",
    "barrier x0[0],x1[0],x2[0],x3[0],x3[1],x4[0],x5[0],x6[0],a[0],a[1],a[2],a[3],a[4],a[5],a[6],a[7],a[8],a[9],a[10];\n",
    "u2(-2*pi,pi) a[10];\n",
    "u1(pi/4) a[10];\n",
    "u3(pi,0,pi) x3[0];\n",
    "cx x3[1],a[10];\n",
    "u1(-pi/4) a[10];\n",
    "cx x3[0],a[10];\n",
    "u1(pi/4) a[10];\n",
    "u3(pi,0,pi) x3[0];\n",
    "cx x3[1],a[10];\n",
    "u1(-pi/4) a[10];\n",
    "u2(-2*pi,pi) a[10];\n",
    "barrier x0[0],x1[0],x2[0],x3[0],x3[1],x4[0],x5[0],x6[0],a[0],a[1],a[2],a[3],a[4],a[5],a[6],a[7],a[8],a[9],a[10];\n",
    "u2(-2*pi,pi) a[9];\n",
    "u1(pi/4) a[9];\n",
    "cx a[8],a[9];\n",
    "u1(-pi/4) a[9];\n",
    "u3(pi,0,pi) x3[1];\n",
    "cx x3[1],a[9];\n",
    "u1(pi/4) a[9];\n",
    "cx a[8],a[9];\n",
    "u2(-2*pi,pi) a[8];\n",
    "u1(pi/4) a[8];\n",
    "cx a[7],a[8];\n",
    "u1(-pi/4) a[8];\n",
    "u2(-2*pi,pi) a[8];\n",
    "u1(pi/4) a[8];\n",
    "cx a[6],a[8];\n",
    "u1(-pi/4) a[8];\n",
    "cx a[5],a[8];\n",
    "u1(pi/4) a[8];\n",
    "cx a[6],a[8];\n",
    "cx x4[0],a[6];\n",
    "u1(-pi/4) a[8];\n",
    "cx a[5],a[8];\n",
    "cx x1[0],a[5];\n",
    "u2(-2*pi,pi) a[8];\n",
    "u1(pi/4) a[8];\n",
    "cx a[7],a[8];\n",
    "cx x5[0],a[7];\n",
    "u1(-pi/4) a[8];\n",
    "u2(-2*pi,pi) a[8];\n",
    "u3(pi,0,pi) a[8];\n",
    "u1(-pi/4) a[9];\n",
    "u2(-2*pi,pi) a[9];\n",
    "u3(pi,0,pi) a[9];\n",
    "cx x3[0],a[7];\n",
    "cx x3[0],a[6];\n",
    "cx x3[0],a[5];\n",
    "u3(pi,0,pi) x3[1];\n",
    "barrier x0[0],x1[0],x2[0],x3[0],x3[1],x4[0],x5[0],x6[0],a[0],a[1],a[2],a[3],a[4],a[5],a[6],a[7],a[8],a[9],a[10];\n",
    "cx a[2],a[1];\n",
    "u3(pi,0,pi) a[3];\n",
    "u2(-2*pi,pi) a[3];\n",
    "u1(pi/4) a[3];\n",
    "cx a[2],a[3];\n",
    "u1(-pi/4) a[3];\n",
    "cx a[1],a[3];\n",
    "u1(pi/4) a[3];\n",
    "cx a[2],a[3];\n",
    "u2(-2*pi,pi) a[2];\n",
    "u1(pi/4) a[2];\n",
    "u1(-pi/4) a[3];\n",
    "u2(-2*pi,pi) a[3];\n",
    "u2(-2*pi,pi) a[3];\n",
    "u1(pi/4) a[3];\n",
    "u2(-2*pi,pi) a[4];\n",
    "u1(pi/4) a[4];\n",
    "cx x3[0],a[0];\n",
    "cx x3[0],a[2];\n",
    "u1(-pi/4) a[2];\n",
    "cx a[0],a[2];\n",
    "u1(pi/4) a[2];\n",
    "cx x3[0],a[2];\n",
    "u1(-pi/4) a[2];\n",
    "u2(-2*pi,pi) a[2];\n",
    "cx x3[1],a[1];\n",
    "cx x3[1],a[3];\n",
    "u1(-pi/4) a[3];\n",
    "cx a[1],a[3];\n",
    "u2(-2*pi,pi) a[1];\n",
    "u1(pi/4) a[1];\n",
    "cx x4[0],a[1];\n",
    "u1(-pi/4) a[1];\n",
    "cx x2[0],a[1];\n",
    "u1(pi/4) a[1];\n",
    "cx x4[0],a[1];\n",
    "cx x4[0],a[0];\n",
    "cx x2[0],a[0];\n",
    "cx x4[0],x6[0];\n",
    "cx x6[0],x5[0];\n",
    "cx x5[0],x1[0];\n",
    "cx x1[0],x0[0];\n",
    "cx x0[0],x2[0];\n",
    "u1(-pi/4) a[1];\n",
    "u2(-2*pi,pi) a[1];\n",
    "u1(pi/4) a[3];\n",
    "cx x3[1],a[3];\n",
    "u1(-pi/4) a[3];\n",
    "u2(-2*pi,pi) a[3];\n",
    "cx x3[1],a[4];\n",
    "u1(-pi/4) a[4];\n",
    "cx x3[0],a[4];\n",
    "u1(pi/4) a[4];\n",
    "u3(pi,0,pi) x3[0];\n",
    "cx x2[0],x3[0];\n",
    "cx x3[1],a[4];\n",
    "u1(-pi/4) a[4];\n",
    "u2(-2*pi,pi) a[4];\n",
    "u3(pi,0,pi) a[4];\n",
    "u1(-pi/4) b[3];\n",
    "u2(-2*pi,pi) b[3];\n",
    "\"\"\"\n",
    "\n",
    "Oracle = QuantumCircuit.from_qasm_str(qasm_str)\n",
    "\n",
    "print(f\"Original oracle depth: {Oracle.depth()}\")\n",
    "print(f\"Original operation count: {Oracle.count_ops()}\")\n",
    "\n",
    "# Checking circuit is fully decomposed\n",
    "from qiskit import transpile\n",
    "Oracle = transpile(Oracle, basis_gates=['u', 'cx'])\n",
    "\n",
    "print(f\"Decomposed oracle depth: {Oracle.depth()}\")\n",
    "print(f\"Decomposed operation count: {Oracle.count_ops()}\")"
   ]
  },
  {
   "cell_type": "markdown",
   "id": "37178118",
   "metadata": {},
   "source": [
    "## Executing Grover Circuit\n",
    "\n",
    "### Imports"
   ]
  },
  {
   "cell_type": "code",
   "execution_count": 29,
   "metadata": {},
   "outputs": [],
   "source": [
    "from qiskit import QuantumCircuit, QuantumRegister, execute\n",
    "from qiskit.visualization import plot_histogram\n",
    "from qiskit.compiler import assemble, transpile\n",
    "from qiskit import Aer"
   ]
  },
  {
   "cell_type": "markdown",
   "metadata": {},
   "source": [
    "### Utilitary functions"
   ]
  },
  {
   "cell_type": "markdown",
   "metadata": {},
   "source": [
    "#### CX count\n",
    "\n",
    "Returns the CX gates count of the given QuantumCircuit"
   ]
  },
  {
   "cell_type": "code",
   "execution_count": 3,
   "metadata": {},
   "outputs": [],
   "source": [
    "def cx_count(qc):\n",
    "    qc_ = qc.decompose().decompose().decompose()\n",
    "    dic = dict(qc_.count_ops())\n",
    "    for gate in dic:\n",
    "        if gate == 'cx':\n",
    "            return dic[gate]"
   ]
  },
  {
   "cell_type": "markdown",
   "metadata": {},
   "source": [
    "#### Gate sequence\n",
    "Applies a specified sequence of quantum gates to the circuit.\n",
    "Input is given as a list of lists of qubit indices.\n",
    "Each list corresponds to a quantum gate (gates differ with the length of the list)\n",
    "- if `length = 1` : X gate\n",
    "- if `length = 2` : CX gate (control is first index and target second)\n",
    "- if `length = 3` : Toffoli gate (target qubit is last index)\n",
    "- if `length = 4` : 3-fold Toffoli\n",
    "\n",
    "if `approx = True`, margolus (RCCX) and RCCCX gates are applied instead of the Toffolis."
   ]
  },
  {
   "cell_type": "code",
   "execution_count": 4,
   "metadata": {},
   "outputs": [],
   "source": [
    "def mcx_sequence(qc, sequence, approx=False):\n",
    "    for qubits in sequence:\n",
    "        if len(qubits) == 1:\n",
    "            qc.x(qubits)\n",
    "        if len(qubits) == 2:\n",
    "            qc.cx(control_qubit=qubits[0], target_qubit=qubits[1])\n",
    "        if len(qubits) == 3:\n",
    "            if approx:\n",
    "                qc.rccx(control_qubit1=qubits[0], control_qubit2=qubits[1], target_qubit=qubits[2])\n",
    "            else:\n",
    "                qc.ccx(control_qubit1=qubits[0], control_qubit2=qubits[1], target_qubit=qubits[2])\n",
    "        if len(qubits) == 4:\n",
    "            if approx:\n",
    "                qc.rcccx(control_qubit1=qubits[0], control_qubit2=qubits[1], control_qubit3=qubits[2], target_qubit=qubits[-1]).inverse()\n",
    "            else:\n",
    "                qc.mcx(control_qubits=qubits[:-1], target_qubit=qubits[-1])\n",
    "        if len(qubits) >= 5:\n",
    "            qc.mcx(control_qubits=qubits[:-1], target_qubit=qubits[-1])"
   ]
  },
  {
   "cell_type": "markdown",
   "metadata": {},
   "source": [
    "#### Test block\n",
    "This function serves to test the building blocks of our oracle. It will print the states that get their amplitude flipped so we can check the behavior of the different blocks.\n",
    "- `var` is the list of the variable qubits (the $x_i$)\n",
    "- `cond` is the list of the condition qubits that will have to be checked"
   ]
  },
  {
   "cell_type": "code",
   "execution_count": 5,
   "metadata": {},
   "outputs": [],
   "source": [
    "def test_block(block, var, cond):\n",
    "    n = block.num_qubits\n",
    "    qc_ = QuantumCircuit(n+1)\n",
    "    qc_.h(var)\n",
    "    qc_.h(n)\n",
    "    qc_.z(n)\n",
    "    qc_.append(block, list(range(n)))\n",
    "    qc_.mct(control_qubits=cond, target_qubit=n)\n",
    "    qc_.append(block.inverse(), list(range(n)))\n",
    "    qc_.z(n)\n",
    "    qc_.h(n)\n",
    "    \n",
    "    qc_ = qc_.decompose().decompose().decompose()\n",
    "\n",
    "    backend = Aer.get_backend('statevector_simulator')\n",
    "    job = backend.run(qc_)\n",
    "    result = job.result()\n",
    "    outputstate = result.get_statevector(qc_, decimals=3)\n",
    "    k = 0\n",
    "    for x in outputstate:\n",
    "        if x < 0:\n",
    "            print('|{}>'.format(bin(k)[2:]))\n",
    "        k += 1\n",
    "    "
   ]
  },
  {
   "cell_type": "markdown",
   "metadata": {},
   "source": [
    "### Grover Oracle"
   ]
  },
  {
   "cell_type": "code",
   "execution_count": 6,
   "metadata": {},
   "outputs": [],
   "source": [
    "# We will use approximate Toffolis (RCCX and RCCCX) to reduce CX gates count\n",
    "approx = True"
   ]
  },
  {
   "cell_type": "markdown",
   "metadata": {},
   "source": [
    "#### Building blocks"
   ]
  },
  {
   "cell_type": "markdown",
   "metadata": {},
   "source": [
    "##### Constraints A.a-e\n",
    "\n",
    "This first building block checks constraints A.a to A.e, :\n",
    "\n",
    "$x_0 \\neq x_1$, $x_0 \\neq x_2$, $x_1 \\neq x_5$, $x_4 \\neq x_6$, $x_5 \\neq _6$\n",
    "\n",
    "It uses no additional ancillary qubit and stores the boolean corresponding to these constraints in $x_0$, $x_2$, $x_1$, $x_6$ and $x_5$ respectively."
   ]
  },
  {
   "cell_type": "code",
   "execution_count": 7,
   "metadata": {},
   "outputs": [
    {
     "name": "stdout",
     "output_type": "stream",
     "text": [
      "CX count = 5\n"
     ]
    },
    {
     "data": {
      "image/png": "[encoded data removed]",
      "text/plain": [
       "<Figure size 387.597x385.28 with 1 Axes>"
      ]
     },
     "execution_count": 7,
     "metadata": {},
     "output_type": "execute_result"
    }
   ],
   "source": [
    "block_A = QuantumCircuit(6)\n",
    "sequence_A = [[0,2], [1,0], [4,1], [5,4], [3,5]]\n",
    "mcx_sequence(block_A, sequence_A, approx=approx)\n",
    "print('CX count =', cx_count(block_A))\n",
    "block_A.draw(output='mpl')"
   ]
  },
  {
   "cell_type": "markdown",
   "metadata": {},
   "source": [
    "We obtain $\\ket{x_6x_5x_4x_2x_1x_0} = \\ket{011001} or \\ket{100110}$ which are the two states satisfying constraints A"
   ]
  },
  {
   "cell_type": "code",
   "execution_count": 8,
   "metadata": {},
   "outputs": [
    {
     "name": "stdout",
     "output_type": "stream",
     "text": [
      "|11001>\n",
      "|100110>\n"
     ]
    }
   ],
   "source": [
    "test_block(block_A, list(range(6)), [0,1,2,4,5])"
   ]
  },
  {
   "cell_type": "markdown",
   "metadata": {},
   "source": [
    "##### Constraints B.a\n",
    "\n",
    "This block checks constraint $x_3 = 2$\n",
    "\n",
    "It uses one additional qubit to store the boolean corresponding to the constraint"
   ]
  },
  {
   "cell_type": "code",
   "execution_count": 9,
   "metadata": {},
   "outputs": [
    {
     "name": "stdout",
     "output_type": "stream",
     "text": [
      "CX count = 3\n"
     ]
    },
    {
     "data": {
      "image/png": "[encoded data removed]",
      "text/plain": [
       "<Figure size 327.397x204.68 with 1 Axes>"
      ]
     },
     "execution_count": 9,
     "metadata": {},
     "output_type": "execute_result"
    }
   ],
   "source": [
    "block_Ba = QuantumCircuit(3)\n",
    "sequence_Ba = [[0], [0,1,2], [0]]\n",
    "mcx_sequence(block_Ba, sequence=sequence_Ba, approx=approx)\n",
    "print('CX count =', cx_count(block_Ba))\n",
    "block_Ba.draw(output='mpl')\n"
   ]
  },
  {
   "cell_type": "markdown",
   "metadata": {},
   "source": [
    "We obtain $\\ket{x_{3,1}x_{3,0}}=\\ket{10}$ which corresponds to $x_3=2$"
   ]
  },
  {
   "cell_type": "code",
   "execution_count": 10,
   "metadata": {},
   "outputs": [
    {
     "name": "stdout",
     "output_type": "stream",
     "text": [
      "|10>\n"
     ]
    }
   ],
   "source": [
    "test_block(block_Ba, list(range(2)), [2])"
   ]
  },
  {
   "cell_type": "markdown",
   "metadata": {},
   "source": [
    "##### Constraints B.b-d\n",
    "\n",
    "This block checks constraints $x_3 \\neq x_1$, $x_3 \\neq x_4$ and $x_3 \\neq x_5$\n",
    "\n",
    "It uses 5 additional ancillary qubits and stores the constraint boolean in the second additional qubit."
   ]
  },
  {
   "cell_type": "code",
   "execution_count": 11,
   "metadata": {},
   "outputs": [
    {
     "name": "stdout",
     "output_type": "stream",
     "text": [
      "CX count = 15\n"
     ]
    },
    {
     "data": {
      "image/png": "[encoded data removed]",
      "text/plain": [
       "<Figure size 808.997x626.08 with 1 Axes>"
      ]
     },
     "execution_count": 11,
     "metadata": {},
     "output_type": "execute_result"
    }
   ],
   "source": [
    "block_Bbd = QuantumCircuit(10)\n",
    "sequence_Bbd = [[1,5], [1,6], [1,7], \n",
    "                [0,5], [3,6], [4,7],\n",
    "                [2], [8], [9],\n",
    "                [5,6,7,8],\n",
    "                [2,8,9],\n",
    "                [2]]\n",
    "mcx_sequence(block_Bbd, sequence_Bbd, approx=approx)\n",
    "print('CX count =', cx_count(block_Bbd))\n",
    "block_Bbd.draw(output='mpl')\n"
   ]
  },
  {
   "cell_type": "markdown",
   "metadata": {},
   "source": [
    "The 18 $\\ket{x_5x_4x_{3,1}x_{3,0}x_1}$ states obtained are the only of the 32 5-qubits states that satisfy the constraints B.b-d"
   ]
  },
  {
   "cell_type": "code",
   "execution_count": 12,
   "metadata": {},
   "outputs": [
    {
     "name": "stdout",
     "output_type": "stream",
     "text": [
      "|10>\n",
      "|100>\n",
      "|101>\n",
      "|110>\n",
      "|111>\n",
      "|1100>\n",
      "|1101>\n",
      "|1110>\n",
      "|1111>\n",
      "|10100>\n",
      "|10101>\n",
      "|10110>\n",
      "|10111>\n",
      "|11001>\n",
      "|11100>\n",
      "|11101>\n",
      "|11110>\n",
      "|11111>\n"
     ]
    }
   ],
   "source": [
    "test_block(block_Bbd, list(range(5)), [9])"
   ]
  },
  {
   "cell_type": "markdown",
   "metadata": {},
   "source": [
    "##### Constraint C.a\n",
    "\n",
    "This block checks constraint $x_2 + 2 \\neq x_3$\n",
    "\n",
    "It uses one additional qubit that is used to store the constraint boolean"
   ]
  },
  {
   "cell_type": "code",
   "execution_count": 13,
   "metadata": {},
   "outputs": [
    {
     "name": "stdout",
     "output_type": "stream",
     "text": [
      "CX count = 4\n"
     ]
    },
    {
     "data": {
      "image/png": "[encoded data removed]",
      "text/plain": [
       "<Figure size 327.397x264.88 with 1 Axes>"
      ]
     },
     "execution_count": 13,
     "metadata": {},
     "output_type": "execute_result"
    }
   ],
   "source": [
    "block_Ca = QuantumCircuit(4)\n",
    "sequence_Ca = [[0,1], [1], [3], [1,2,3]]\n",
    "mcx_sequence(block_Ca, sequence_Ca, approx=approx)\n",
    "print('CX count =', cx_count(block_Ca))\n",
    "block_Ca.draw(output='mpl')\n"
   ]
  },
  {
   "cell_type": "markdown",
   "metadata": {},
   "source": [
    "Among the 8 3-qubits states, the two that don't get their amplitude flipped are $\\ket{x_{3,1}x_{3,0}x_2} = \\ket{100}$ and $\\ket{111}$ which are the two corresponding to $x_2+2=x_3$"
   ]
  },
  {
   "cell_type": "code",
   "execution_count": 14,
   "metadata": {},
   "outputs": [
    {
     "name": "stdout",
     "output_type": "stream",
     "text": [
      "|0>\n",
      "|1>\n",
      "|10>\n",
      "|11>\n",
      "|101>\n",
      "|110>\n"
     ]
    }
   ],
   "source": [
    "test_block(block_Ca, list(range(3)), [3])"
   ]
  },
  {
   "cell_type": "markdown",
   "metadata": {},
   "source": [
    "##### Constraint C.b\n",
    "This block checks constraint $x_2 + x_4 + x_3 = 3$\n",
    "It uses 4 additional qubits and the boolean constraint is achieved by checking first, second and last additional qubits."
   ]
  },
  {
   "cell_type": "code",
   "execution_count": 15,
   "metadata": {},
   "outputs": [
    {
     "name": "stdout",
     "output_type": "stream",
     "text": [
      "CX count = 17\n"
     ]
    },
    {
     "data": {
      "image/png": "[encoded data removed]",
      "text/plain": [
       "<Figure size 869.197x505.68 with 1 Axes>"
      ]
     },
     "execution_count": 15,
     "metadata": {},
     "output_type": "execute_result"
    }
   ],
   "source": [
    "block_Cb = QuantumCircuit(8)\n",
    "sequence_Cb = [[0,2], [1,2], [0,1,3],\n",
    "               [2,4,6], [4,2], [3,5,7], [5,3],\n",
    "               [3,6,7], [6,3], [7]]\n",
    "mcx_sequence(block_Cb, sequence_Cb, approx=approx)\n",
    "print('CX count =', cx_count(block_Cb))\n",
    "block_Cb.draw(output='mpl')\n"
   ]
  },
  {
   "cell_type": "markdown",
   "metadata": {},
   "source": [
    "$\\ket{x_{3,1}x_{3,0}x_4x_2} = \\ket{0111}$, $\\ket{1001}$, $\\ket{1010}$ and $\\ket{1100}$ all total to a sum of 3"
   ]
  },
  {
   "cell_type": "code",
   "execution_count": 16,
   "metadata": {},
   "outputs": [
    {
     "name": "stdout",
     "output_type": "stream",
     "text": [
      "|10011>\n",
      "|100001>\n",
      "|100010>\n",
      "|110000>\n"
     ]
    }
   ],
   "source": [
    "test_block(block_Cb, [0,1,4,5], [2,3,7])"
   ]
  },
  {
   "cell_type": "markdown",
   "metadata": {},
   "source": [
    "#### Encoding circuit\n",
    "\n",
    "The encoding circuit is assembled by placing successively:\n",
    "\n",
    "Block C.b $\\rightarrow$ Block B.b-d $\\rightarrow$ Block B.a $\\rightarrow$ Block C.a $\\rightarrow$ Block A"
   ]
  },
  {
   "cell_type": "code",
   "execution_count": 17,
   "metadata": {},
   "outputs": [
    {
     "name": "stdout",
     "output_type": "stream",
     "text": [
      "CX count in the encoding circuit = 44\n"
     ]
    },
    {
     "data": {
      "image/png": "[encoded data removed]",
      "text/plain": [
       "<Figure size 2627.54x1167.88 with 1 Axes>"
      ]
     },
     "execution_count": 17,
     "metadata": {},
     "output_type": "execute_result"
    }
   ],
   "source": [
    "x0 = QuantumRegister(1, 'x0')\n",
    "x1 = QuantumRegister(1, 'x1')\n",
    "x2 = QuantumRegister(1, 'x2')\n",
    "x3 = QuantumRegister(2, 'x3')\n",
    "x4 = QuantumRegister(1, 'x4')\n",
    "x5 = QuantumRegister(1, 'x5')\n",
    "x6 = QuantumRegister(1, 'x6')\n",
    "a = QuantumRegister(11, 'a')\n",
    "b = QuantumRegister(4, 'b')\n",
    "\n",
    "\n",
    "encoding = QuantumCircuit(x0, x1, x2, x3, x4, x5, x6, a)\n",
    "\n",
    "\n",
    "encoding.append(block_Cb, [x2, x4, a[0], a[1], x3[0], x3[1], a[2], a[3]])\n",
    "encoding.barrier()\n",
    "encoding.append(block_Bbd,[x1, x3[0], x3[1], x4, x5, a[5], a[6], a[7], a[8], a[9]])\n",
    "encoding.barrier()\n",
    "encoding.append(block_Ba, [x3[0], x3[1], a[10]])\n",
    "encoding.barrier()\n",
    "encoding.append(block_Ca, [x2, x3[0], x3[1], a[4]])\n",
    "encoding.barrier()\n",
    "encoding.append(block_A, [x0, x1, x2, x4, x5, x6])\n",
    "\n",
    "print('CX count in the encoding circuit =', cx_count(encoding))\n",
    "encoding.decompose().draw(output='mpl', fold=-1)"
   ]
  },
  {
   "cell_type": "markdown",
   "metadata": {},
   "source": [
    "We obtain $\\ket{x_6x_5x_4x_{3,1}x_{3,0}x_2x_1x_0} = \\ket{10010110}$"
   ]
  },
  {
   "cell_type": "code",
   "execution_count": 18,
   "metadata": {},
   "outputs": [
    {
     "name": "stdout",
     "output_type": "stream",
     "text": [
      "|10010110>\n"
     ]
    }
   ],
   "source": [
    "cond = [0, 1, 2, 6, 7, 8, 9, 11, 12, 17, 18]\n",
    "var = list(range(8))\n",
    "test_block(encoding, var, cond)"
   ]
  },
  {
   "cell_type": "markdown",
   "metadata": {},
   "source": [
    "#### 10-fold Multi-Control Toffoli gate"
   ]
  },
  {
   "cell_type": "code",
   "execution_count": 19,
   "metadata": {},
   "outputs": [
    {
     "name": "stdout",
     "output_type": "stream",
     "text": [
      "CX gate count in the MCT = 54\n"
     ]
    }
   ],
   "source": [
    "c_ = QuantumRegister(11, 'c_')\n",
    "a_ = QuantumRegister(4, 'a_')\n",
    "\n",
    "MCT = QuantumCircuit(c_, a_)\n",
    "cascade = QuantumCircuit(c_, a_)\n",
    "cascade.rcccx(c_[0], c_[1], c_[2], a_[0])\n",
    "cascade.rcccx(a_[0], c_[3], c_[4], a_[1])\n",
    "cascade.rcccx(a_[1], c_[5], c_[6], a_[2])\n",
    "cascade.rcccx(a_[2], c_[7], c_[8], a_[3])\n",
    "\n",
    "MCT.append(cascade, list(range(15)))\n",
    "MCT.h(c_[10])\n",
    "MCT.ccx(a_[3], c_[9], c_[10])\n",
    "MCT.h(c_[10])\n",
    "MCT.append(cascade.inverse(), list(range(15)))\n",
    "\n",
    "print('CX gate count in the MCT =', cx_count(MCT))\n"
   ]
  },
  {
   "cell_type": "markdown",
   "metadata": {},
   "source": [
    "#### The Oracle"
   ]
  },
  {
   "cell_type": "code",
   "execution_count": 20,
   "metadata": {},
   "outputs": [
    {
     "name": "stdout",
     "output_type": "stream",
     "text": [
      "CX gate count in the oracle = 142\n"
     ]
    }
   ],
   "source": [
    "b = QuantumRegister(4, 'b')\n",
    "\n",
    "oracle = QuantumCircuit(x0, x1, x2, x3, x4, x5, x6, a, b)\n",
    "oracle.append(encoding, [k for k in range(19)])\n",
    "oracle.append(MCT, cond+[b[0], b[1], b[2], b[3]])\n",
    "oracle.append(encoding.inverse(), [k for k in range(19)])\n",
    "\n",
    "print('CX gate count in the oracle =', cx_count(oracle))"
   ]
  },
  {
   "cell_type": "code",
   "execution_count": 21,
   "metadata": {},
   "outputs": [],
   "source": [
    "#oracle.decompose().decompose().decompose().qasm(formatted=True, filename='oracle142.qasm')"
   ]
  },
  {
   "cell_type": "markdown",
   "metadata": {},
   "source": [
    "### Grover circuit"
   ]
  },
  {
   "cell_type": "markdown",
   "metadata": {},
   "source": [
    "#### Diffuser\n",
    "\n",
    "Operator $2\\ket{s}\\bra{s} - I$"
   ]
  },
  {
   "cell_type": "code",
   "execution_count": 22,
   "metadata": {},
   "outputs": [],
   "source": [
    "def diffuser(nqb):\n",
    "    qc = QuantumCircuit(nqb)\n",
    "    for qb in range(nqb):\n",
    "        qc.h(qb)\n",
    "    for qb in range(nqb):\n",
    "        qc.x(qb)\n",
    "    qc.h(nqb-1)\n",
    "    qc.mct(list(range(nqb-1)), nqb-1)\n",
    "    qc.h(nqb-1)\n",
    "    for qb in range(nqb):\n",
    "        qc.x(qb)\n",
    "    for qb in range(nqb):\n",
    "        qc.h(qb)\n",
    "    U_s = qc.to_gate()\n",
    "    U_s.name = \"$U_s$\"\n",
    "    return U_s"
   ]
  },
  {
   "cell_type": "markdown",
   "metadata": {},
   "source": [
    "#### Full circuit\n",
    "\n",
    "Optimal number of cycles for 8 variable qubits is 12"
   ]
  },
  {
   "cell_type": "code",
   "execution_count": 23,
   "metadata": {},
   "outputs": [],
   "source": [
    "n_cycles = 12\n",
    "\n",
    "var_qubits = QuantumRegister(8, 'v')\n",
    "anc_qubits = QuantumRegister(15, 'anc')\n",
    "\n",
    "qc = QuantumCircuit(var_qubits, anc_qubits)\n",
    "\n",
    "qc.h(var_qubits)\n",
    "\n",
    "for _ in range(n_cycles):\n",
    "    qc.append(oracle, list(range(23)))\n",
    "    qc.append(diffuser(8), list(range(8)))"
   ]
  },
  {
   "cell_type": "code",
   "execution_count": 24,
   "metadata": {},
   "outputs": [],
   "source": [
    "# qc.decompose().decompose().decompose().qasm(formatted=True, filename='full_circuit142.qasm')"
   ]
  },
  {
   "cell_type": "code",
   "execution_count": 33,
   "metadata": {},
   "outputs": [
    {
     "data": {
      "image/png": "[encoded data removed]",
      "text/plain": [
       "<Figure size 504x360 with 1 Axes>"
      ]
     },
     "execution_count": 33,
     "metadata": {},
     "output_type": "execute_result"
    }
   ],
   "source": [
    "aer_simulator = Aer.get_backend('statevector_simulator')\n",
    "transpiled_qc = transpile(qc, aer_simulator)\n",
    "qobj = assemble(transpiled_qc)\n",
    "result = aer_simulator.run(qobj).result()\n",
    "plot_histogram(result.get_counts(), bar_labels=False)"
   ]
  },
  {
   "cell_type": "code",
   "execution_count": null,
   "metadata": {},
   "outputs": [],
   "source": []
  }
 ],
 "metadata": {
  "interpreter": {
   "hash": "2b000869b6f2521319473a24d9d490119ab3c1c12c1ff244cba66660594a1940"
  },
  "kernelspec": {
   "display_name": "Python 3 (ipykernel)",
   "language": "python",
   "name": "python3"
  },
  "language_info": {
   "codemirror_mode": {
    "name": "ipython",
    "version": 3
   },
   "file_extension": ".py",
   "mimetype": "text/x-python",
   "name": "python",
   "nbconvert_exporter": "python",
   "pygments_lexer": "ipython3",
   "version": "3.9.16"
  }
 },
 "nbformat": 4,
 "nbformat_minor": 2
}
