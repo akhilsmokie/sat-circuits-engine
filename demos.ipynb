{
 "cells": [
  {
   "cell_type": "markdown",
   "id": "4d02922e",
   "metadata": {},
   "source": [
    "# SAT Circuits Synthesis Engine - Demonstration Notebook\n",
    "\n",
    "This program builds and runs quantum circuits for n-SAT problems.\\\n",
    "The constraints for the SAT problem are defined by the user, using a specific format (either low-level or high-level) which is explained in [constraints_format.md](constraints_format.md).\n",
    "\n",
    "The program is capable of generating Grover's operators, generating the overall SAT-circuits, executing these circuits and exporting all data. It is built in a modular fashion such that a user can use some of these features or all of them.\n",
    "\n",
    "A class named `SATInterface` allows an access to more-or-less all program's functionality, and it is recommended to access the  features via this interface. It is possible to use `SATInterface` as an API (recommended), or to launch an interactive user interface with it (restrictive but intuitive).\n",
    "\n",
    "Many read-to-use examples data may be found in [test_data.json](sat_circuits_engine/data/test_data.json).\n",
    "\n",
    "\n",
    "## API\n",
    "\n",
    "### Demo 1 - Full Utilization of  the API\n",
    "\n",
    "In this example the constraints are defined in a *high-level* fashion, while exploiting pretty much all features:\n",
    "\n",
    "1. Generation of the suitable Grover's operator.\n",
    "2. Generation of the overall SAT circuit that solves the problem.\n",
    "3. Execution of the overall SAT circuit.\n",
    "4. Analysis of the execution's results.\n",
    "5. Representation and data-exportation of all the above.\n",
    "\n",
    "The exported data includes circuit diagrams, QPY serializartion files for all circuit objects, QASM 2.0 export file of the transpiled operator version, results data and metadata files. It is recommended to examine the exported data after exporting it in the following cells. The exported data path will be provided by the program before exportation (the program creates a unique data directory in `sat_circuits_engine/data/generated_data/`).\n",
    "\n",
    "In addition, comments with annotations are integrated along this example's code."
   ]
  },
  {
   "cell_type": "code",
   "execution_count": null,
   "id": "ea79fad8",
   "metadata": {
    "scrolled": true
   },
   "outputs": [],
   "source": [
    "# (1) Run this cell for obtaining the suitable Grover's operator for the defined SAT problem\n",
    "\n",
    "from sat_circuits_engine import SATInterface\n",
    "\n",
    "\n",
    "# Defining constraints and varibales in a high-level fashion\n",
    "high_level_constraints_string = (\n",
    "    \"(x0 != x1),\" \\\n",
    "    \"(x2 + 2 != x3),\" \\\n",
    "    \"(x3 != x4),\" \\\n",
    "    \"(x3 != x1),\" \\\n",
    "    \"(x5 != x6),\" \\\n",
    "    \"(x0 != x2),\" \\\n",
    "    \"(x1 != x5),\" \\\n",
    "    \"(x4 != x6),\" \\\n",
    "    \"(x3 == 2),\" \\\n",
    "    \"(x2 + x4 + x3 == 3)\"\n",
    ")\n",
    "high_level_vars = {\"x0\": 1, \"x1\": 1, \"x2\": 1, \"x3\": 2, \"x4\": 1, \"x5\": 1, \"x6\": 1}\n",
    "\n",
    "# Initialization of the interface, `save_data=True` for exporting data into a dedicated directory\n",
    "demo_1 = SATInterface(\n",
    "    high_level_constraints_string=high_level_constraints_string,\n",
    "    high_level_vars=high_level_vars,\n",
    "    name=\"demo_1\",\n",
    "    save_data=True\n",
    ")\n",
    "\n",
    "# `obtain_grover_operator()` returns a dictionary of the form:\n",
    "# {'operator': OBJ, 'decomposed_operator': OBJ, 'transpiled_operator': OBJ}.\n",
    "# Transpilation is done according to the `transpile_kwargs` arg, which by default is set to:\n",
    "# {'basis_gates': ['u', 'cx'], 'optimization_level': 3}.\n",
    "grover_operator_data = demo_1.obtain_grover_operator(\n",
    "    transpile_kwargs={'basis_gates': ['u', 'cx'], 'optimization_level': 3}\n",
    ")\n",
    "\n",
    "demo_1.save_display_grover_operator(grover_operator_data, display=True)"
   ]
  },
  {
   "cell_type": "code",
   "execution_count": null,
   "id": "add7ae11",
   "metadata": {
    "scrolled": false
   },
   "outputs": [],
   "source": [
    "# (2) Run this cell for obtaining the overall SAT circuit:\n",
    "# a QuantumCircuit object that solves the SAT problem, ready to execution on a backend.\n",
    "\n",
    "from qiskit_aer import AerSimulator\n",
    "\n",
    "# The number of iterations over Grover's iterator (= operator + diffuser) depends on the number of solutions.\n",
    "# If the number of solutions is known, it is best to provide it.\n",
    "# If the number of solutions is unknown, `solutions_num=-1` will initiate an classical\n",
    "# iterative stochastic process that looks for an adequate number of iterations for the problem.\n",
    "# Needless to mention, this process add some overheads.\n",
    "# `solutions_num=-2` will generate a dynamic circuit to overcome the need for providing the number of solutions.\n",
    "# NOTE - this is a beta feature which is currently under development. For now it failes \n",
    "# to scale and works properly only for small circuits (~ < 15 qubits).\n",
    "overall_circuit_data = demo_1.obtain_overall_sat_circuit(\n",
    "    grover_operator=grover_operator_data['operator'],\n",
    "    solutions_num=1,\n",
    "    backend=AerSimulator()\n",
    ")\n",
    "\n",
    "demo_1.save_display_overall_circuit(overall_circuit_data, display=True)"
   ]
  },
  {
   "cell_type": "code",
   "execution_count": null,
   "id": "bc6358f4",
   "metadata": {
    "scrolled": true
   },
   "outputs": [],
   "source": [
    "# (3) Run this cell for executing the overall SAT circuit and obtaining the results.\n",
    "# WARNING: this specific circuit is heavy for a classical computer to simualte, it might take a while.\n",
    "\n",
    "# In noiseless conditions and only 1 solution, 50 shots are more than enough\n",
    "results_data = demo_1.run_overall_sat_circuit(\n",
    "    circuit=overall_circuit_data['circuit'],\n",
    "    backend=AerSimulator(),\n",
    "    shots=50\n",
    ")\n",
    "\n",
    "demo_1.save_display_results(results_data, display=True)"
   ]
  },
  {
   "cell_type": "markdown",
   "id": "a4129642",
   "metadata": {},
   "source": [
    "### Demo 2 - Obtaining Specific Objects via API\n",
    "\n",
    "In this example the constraints are defined in a *low-level* fashion, with the single purpose of obtaining Grover's operator."
   ]
  },
  {
   "cell_type": "code",
   "execution_count": null,
   "id": "7eca2628",
   "metadata": {
    "scrolled": false
   },
   "outputs": [],
   "source": [
    "# (1) Run this cell to obtain Grover's operator for the defined constraints\n",
    "\n",
    "from sat_circuits_engine import SATInterface\n",
    "\n",
    "# Initialization of the interface, `save_data=False` = not saving and exporting data\n",
    "demo_2 = SATInterface(\n",
    "    constraints_string=\"([4][3][2] == [0]),([2] == [3]),([3] == [4]),([0] != [1]),([8][7] == [3][2])\",\n",
    "    num_input_qubits=9,\n",
    "    name=\"demo_2\",\n",
    "    save_data=False\n",
    ")\n",
    "\n",
    "\n",
    "# Obtaining Grover's operator objects\n",
    "grover_operator_data = demo_2.obtain_grover_operator(\n",
    "    transpile_kwargs={'basis_gates': ['u', 'cx'], 'optimization_level': 3}\n",
    ")\n",
    "operator = grover_operator_data['operator']\n",
    "decomposed_operator = grover_operator_data['decomposed_operator']\n",
    "transpiled_operator = grover_operator_data['transpiled_operator']\n",
    "\n",
    "\n",
    "# Displaying results\n",
    "print(\"The high level operator circuit diagram:\")\n",
    "display(operator.draw('mpl', fold=-1))\n",
    "\n",
    "print(\"The decomposed operator circuit diagram:\")\n",
    "display(decomposed_operator.draw('mpl', fold=-1))\n",
    "\n",
    "print(f\"Gates count in the transpiled operator: {transpiled_operator.count_ops()}\")"
   ]
  },
  {
   "cell_type": "markdown",
   "id": "cdedb5e6",
   "metadata": {},
   "source": [
    "## Interactive user interface\n",
    "\n",
    "To initiate an ituitive (but somewhat restrictive) interactive interface, just execute a bare call to the API: `SATInterface()`.\n",
    "Follow the instructions and enter the appropriate inputs.\n",
    "\n",
    "The defualt settings for the interactive user intreface are:\n",
    "\n",
    "1. `name = \"SAT\"`.\n",
    "2. `save_data = True`.\n",
    "3. `display = True`.\n",
    "4. `transpile_kwargs = {'basis_gates': ['u', 'cx'], 'optimization_level': 3}`.\n",
    "\n",
    "See [Appendix A](#Appendix-A) for a demonstration of using the interactive interface.\n",
    "\n",
    "Many read-to-use examples data may be found in [test_data.json](sat_circuits_engine/data/test_data.json) - you might find it useful when playing around with the interactive interface.\n",
    "\n",
    "For trying different SAT problems configurations just restart the interface by re-running the next cell."
   ]
  },
  {
   "cell_type": "code",
   "execution_count": null,
   "id": "387a2159",
   "metadata": {
    "scrolled": true
   },
   "outputs": [],
   "source": [
    "# Run this cell to initiate an interactive user interface\n",
    "\n",
    "from sat_circuits_engine import SATInterface\n",
    "\n",
    "SATInterface()"
   ]
  },
  {
   "cell_type": "markdown",
   "id": "b3d57501",
   "metadata": {},
   "source": [
    "-----------------------"
   ]
  },
  {
   "cell_type": "markdown",
   "id": "c70eaebd",
   "metadata": {},
   "source": [
    "## Appendix A\n",
    "\n",
    "A demonstration of running the interactive user interface with `example_17` from [test_data.json](sat_circuits_engine/data/test_data.json) in a *high-level* fashion:"
   ]
  },
  {
   "cell_type": "code",
   "execution_count": 5,
   "id": "7614c5fd",
   "metadata": {
    "scrolled": false
   },
   "outputs": [
    {
     "name": "stdout",
     "output_type": "stream",
     "text": [
      "Data will be saved into 'sat_circuits_engine/data/generated_data/D13.02.23_T15.15.58_SAT/'.\n",
      "\n",
      "For a low-level setting of constraints, enter '0'. For a high level setting, enter '1': 1\n",
      "\n",
      "Enter a high-level constraints string: (x2 == x1),(x0 == 6)\n",
      "\n",
      "Enter a dictionary of variables setting in a Python syntax, while keys are variables-names and values are bits-lengths (Dict[var, num_bits]): {\"x0\": 3, \"x1\": 1, \"x2\": 1}\n",
      "\n",
      "The system synthesizes and transpiles a Grover's operator for the given constraints. Please wait..\n",
      "Done.\n",
      "\n",
      "The operator diagram - high level blocks:\n"
     ]
    },
    {
     "data": {
      "text/html": [
       "\n",
       "        <iframe\n",
       "            width=\"100%\"\n",
       "            height=\"500\"\n",
       "            src=\"sat_circuits_engine/data/generated_data/D13.02.23_T15.15.58_SAT/grover_operator/operator.pdf\"\n",
       "            frameborder=\"0\"\n",
       "            allowfullscreen\n",
       "            \n",
       "        ></iframe>\n",
       "        "
      ],
      "text/plain": [
       "<IPython.lib.display.IFrame at 0x7fb555e05f10>"
      ]
     },
     "metadata": {},
     "output_type": "display_data"
    },
    {
     "name": "stdout",
     "output_type": "stream",
     "text": [
      "\n",
      "The operator diagram - decomposed:\n"
     ]
    },
    {
     "data": {
      "text/html": [
       "\n",
       "        <iframe\n",
       "            width=\"100%\"\n",
       "            height=\"500\"\n",
       "            src=\"sat_circuits_engine/data/generated_data/D13.02.23_T15.15.58_SAT/grover_operator/decomposed_operator.pdf\"\n",
       "            frameborder=\"0\"\n",
       "            allowfullscreen\n",
       "            \n",
       "        ></iframe>\n",
       "        "
      ],
      "text/plain": [
       "<IPython.lib.display.IFrame at 0x7fb556b55490>"
      ]
     },
     "metadata": {},
     "output_type": "display_data"
    },
    {
     "name": "stdout",
     "output_type": "stream",
     "text": [
      "\n",
      "The transpiled operator diagram saved into 'sat_circuits_engine/data/generated_data/D13.02.23_T15.15.58_SAT/grover_operator/'.\n",
      "It's not presented here due to its complexity.\n",
      "Please note that barriers appear in the high-level diagrams above only for convenient\n",
      "visual separation between constraints.\n",
      "Before transpilation all barriers are removed to avoid redundant inefficiencies.\n",
      "\n",
      "The transpilation kwargs are: {'basis_gates': ['u', 'cx'], 'optimization_level': 3}.\n",
      "Transpiled operator depth: 36.\n",
      "Transpiled operator gates count: OrderedDict([('u', 27), ('cx', 22)]).\n",
      "Total number of qubits: 8.\n",
      "\n",
      "Saved into 'sat_circuits_engine/data/generated_data/D13.02.23_T15.15.58_SAT/grover_operator/':\n",
      "   Circuit diagrams for all levels.\n",
      "   QPY serialization exports for all levels.\n",
      "   QASM 2.0 export only for the transpiled level.\n",
      "\n",
      "To stop here, enter '0'. For obtaining also the overall circuit, enter '1': 1\n",
      "\n",
      "If the expected amount of solutions is known, please enter it (it is the easiest and optimal case).\n",
      "\n",
      "If the expected amount of solutions is unknown, please enter the value '-1'.\n",
      "In this case the program will look for an adequate (optimal or near optimal)\n",
      "number of iterations for the given SAT problem, using an iterative stochastic process.\n",
      "This process might cause significant overheads and might take some time.\n",
      "Please enter the expected number of solutions ('-1' for unknown): -1\n",
      "\n",
      "For running the circuit on local `aer_simulator`, enter '0'.\n",
      "For running the circuit on `ibmq_qasm_simulator` via cloud, enter '1'.\n",
      "NOTE: A saved IBMQ API token need to be available on your machine for option '1'.\n",
      "For other custom backends please use the API and not this interactive interface.\n",
      "Your input: 0\n",
      "\n",
      "Obtaining aer_simulator..\n",
      "\n",
      "Please wait while the system checks various solutions..\n",
      "\n",
      "Checking iterations for precision = 10:\n",
      "    Checking iterations = 1\n",
      "    Checking iterations = 2\n",
      "Found number of iterations in 0.38 seconds.\n",
      "\n",
      "An adequate number of iterations found = 2.\n",
      "\n",
      "The high level circuit contains 2iterations of the following form:\n"
     ]
    },
    {
     "data": {
      "text/html": [
       "\n",
       "        <iframe\n",
       "            width=\"100%\"\n",
       "            height=\"500\"\n",
       "            src=\"sat_circuits_engine/data/generated_data/D13.02.23_T15.15.58_SAT/overall_circuit/overall_circuit_1_iteration.pdf\"\n",
       "            frameborder=\"0\"\n",
       "            allowfullscreen\n",
       "            \n",
       "        ></iframe>\n",
       "        "
      ],
      "text/plain": [
       "<IPython.lib.display.IFrame at 0x7fb55666ffd0>"
      ]
     },
     "metadata": {},
     "output_type": "display_data"
    },
    {
     "name": "stdout",
     "output_type": "stream",
     "text": [
      "\n",
      "Exporting the full high-level overall SAT circuit object to a QPY file..\n",
      "\n",
      "Saved into 'sat_circuits_engine/data/generated_data/D13.02.23_T15.15.58_SAT/overall_circuit/':\n",
      "   A concised (1 iteration) circuit diagram of the high-level overall SAT circuit.\n",
      "   QPY serialization export for the full overall SAT circuit object.\n",
      "\n",
      "To stop here, enter '0'. For running the overall circuit and obtain data, enter '1': 1\n",
      "\n",
      "Please enter the number of shots desired: 1024\n",
      "\n",
      "The system is running the circuit 1024 times on aer_simulator, please wait..\n",
      "This process might take a while.\n",
      "Done.\n",
      "Circuit simulation execution time = 0.23 seconds.\n",
      "\n",
      "The results for 1024 shots are:\n"
     ]
    },
    {
     "data": {
      "text/html": [
       "\n",
       "        <iframe\n",
       "            width=\"100%\"\n",
       "            height=\"500\"\n",
       "            src=\"sat_circuits_engine/data/generated_data/D13.02.23_T15.15.58_SAT/results/histogram.pdf\"\n",
       "            frameborder=\"0\"\n",
       "            allowfullscreen\n",
       "            \n",
       "        ></iframe>\n",
       "        "
      ],
      "text/plain": [
       "<IPython.lib.display.IFrame at 0x7fb5567a66d0>"
      ]
     },
     "metadata": {},
     "output_type": "display_data"
    },
    {
     "name": "stdout",
     "output_type": "stream",
     "text": [
      "All counts:\n",
      "[('11110', 474), ('00110', 469), ('11111', 7), ('10000', 5), ('11100', 5), ('10101', 5), ('00100', 5), ('00000', 4), ('00001', 4), ('10001', 4), ('00010', 4), ('11000', 4), ('11011', 3), ('00111', 3), ('10010', 3), ('01001', 3), ('01000', 3), ('11101', 2), ('10110', 2), ('10011', 2), ('01011', 2), ('10100', 2), ('11010', 2), ('01100', 2), ('01010', 1), ('11001', 1), ('00011', 1), ('00101', 1), ('01110', 1)]\n",
      "\n",
      "Distilled solutions (2 total):\n",
      "{'11110', '00110'}\n",
      "\n",
      "High-level format solutions: \n",
      "Solution 1: x0 = 6, x1 = 1, x2 = 1\n",
      "Solution 2: x0 = 6, x1 = 0, x2 = 0\n",
      "\n",
      "\n",
      "Done saving data into 'sat_circuits_engine/data/generated_data/D13.02.23_T15.15.58_SAT/'.\n"
     ]
    },
    {
     "data": {
      "text/plain": [
       "<sat_circuits_engine.interface.interface.SATInterface at 0x7fb55657f650>"
      ]
     },
     "execution_count": 5,
     "metadata": {},
     "output_type": "execute_result"
    }
   ],
   "source": [
    "from sat_circuits_engine import SATInterface\n",
    "\n",
    "SATInterface()"
   ]
  }
 ],
 "metadata": {
  "kernelspec": {
   "display_name": "Python 3 (ipykernel)",
   "language": "python",
   "name": "python3"
  },
  "language_info": {
   "codemirror_mode": {
    "name": "ipython",
    "version": 3
   },
   "file_extension": ".py",
   "mimetype": "text/x-python",
   "name": "python",
   "nbconvert_exporter": "python",
   "pygments_lexer": "ipython3",
   "version": "3.11.1"
  },
  "vscode": {
   "interpreter": {
    "hash": "478dcf6de927c4d0f84b9dc12e3bc9eb9b47a412641ebc77390ba05b55b246a5"
   }
  },
  "widgets": {
   "application/vnd.jupyter.widget-state+json": {
    "state": {
     "02395208397644138797d75d7b934fc1": {
      "model_module": "@jupyter-widgets/controls",
      "model_module_version": "1.5.0",
      "model_name": "DescriptionStyleModel",
      "state": {
       "description_width": ""
      }
     },
     "0905ff2d042d49c1965953c0443fbe28": {
      "model_module": "@jupyter-widgets/controls",
      "model_module_version": "1.5.0",
      "model_name": "DescriptionStyleModel",
      "state": {
       "description_width": ""
      }
     },
     "14c3dfb2eb7e4eb49736179371ba41cc": {
      "model_module": "@jupyter-widgets/base",
      "model_module_version": "1.2.0",
      "model_name": "LayoutModel",
      "state": {
       "margin": "0px 0px 10px 0px"
      }
     },
     "164c6e2c92654ecd9019a45b6e5af5e7": {
      "model_module": "@jupyter-widgets/base",
      "model_module_version": "1.2.0",
      "model_name": "LayoutModel",
      "state": {
       "width": "145px"
      }
     },
     "41b8febbac594ab1846e48efd234c656": {
      "model_module": "@jupyter-widgets/controls",
      "model_module_version": "1.5.0",
      "model_name": "HTMLModel",
      "state": {
       "layout": "IPY_MODEL_14c3dfb2eb7e4eb49736179371ba41cc",
       "style": "IPY_MODEL_5eda41a3a794411d9aac737ec3a0990c",
       "value": "<p style='font-family: IBM Plex Sans, Arial, Helvetica, sans-serif; font-size: 20px; font-weight: medium;'>Circuit Properties</p>"
      }
     },
     "43859a46cfff428cabf051fc5de2b582": {
      "model_module": "@jupyter-widgets/controls",
      "model_module_version": "1.5.0",
      "model_name": "ButtonStyleModel",
      "state": {}
     },
     "46ead313f68141719b36579d011f59aa": {
      "model_module": "@jupyter-widgets/controls",
      "model_module_version": "1.5.0",
      "model_name": "DescriptionStyleModel",
      "state": {
       "description_width": ""
      }
     },
     "571fa101b4fc4c50980e83a842a13191": {
      "model_module": "@jupyter-widgets/controls",
      "model_module_version": "1.5.0",
      "model_name": "HTMLModel",
      "state": {
       "layout": "IPY_MODEL_c9849fc28135482fb8e04cde56076c8c",
       "style": "IPY_MODEL_0905ff2d042d49c1965953c0443fbe28",
       "value": "<h5>Job ID</h5>"
      }
     },
     "59c7dbde60de46f7876c44345cb36793": {
      "model_module": "@jupyter-widgets/controls",
      "model_module_version": "1.5.0",
      "model_name": "HTMLModel",
      "state": {
       "layout": "IPY_MODEL_164c6e2c92654ecd9019a45b6e5af5e7",
       "style": "IPY_MODEL_46ead313f68141719b36579d011f59aa",
       "value": "<h5>Backend</h5>"
      }
     },
     "5eda41a3a794411d9aac737ec3a0990c": {
      "model_module": "@jupyter-widgets/controls",
      "model_module_version": "1.5.0",
      "model_name": "DescriptionStyleModel",
      "state": {
       "description_width": ""
      }
     },
     "7006183f11c74f12b6b47e990f9027ae": {
      "model_module": "@jupyter-widgets/controls",
      "model_module_version": "1.5.0",
      "model_name": "HTMLModel",
      "state": {
       "layout": "IPY_MODEL_a10c7b2cdb5e453490d3f7004dc27db2",
       "style": "IPY_MODEL_f4a856138ca44036b707a22db1f97279",
       "value": "<h5>Status</h5>"
      }
     },
     "73a729f3506a4e3198aedb698b3d98c7": {
      "model_module": "@jupyter-widgets/base",
      "model_module_version": "1.2.0",
      "model_name": "LayoutModel",
      "state": {
       "margin": "0px 0px 0px 37px",
       "width": "600px"
      }
     },
     "74b41b7317c04c409a09b47ea58f24a1": {
      "model_module": "@jupyter-widgets/controls",
      "model_module_version": "1.5.0",
      "model_name": "HTMLModel",
      "state": {
       "layout": "IPY_MODEL_cb6bfe195f6e4e1aaa7b75b16e55d24a",
       "style": "IPY_MODEL_f968e6550ddf4d6b9c9ad997847c94b8",
       "value": "<h5>Message</h5>"
      }
     },
     "8ffc82e90506493782b38352d91379c6": {
      "model_module": "@jupyter-widgets/base",
      "model_module_version": "1.2.0",
      "model_name": "LayoutModel",
      "state": {
       "grid_area": "right",
       "padding": "0px 0px 0px 0px",
       "width": "70px"
      }
     },
     "a10c7b2cdb5e453490d3f7004dc27db2": {
      "model_module": "@jupyter-widgets/base",
      "model_module_version": "1.2.0",
      "model_name": "LayoutModel",
      "state": {
       "width": "95px"
      }
     },
     "c9849fc28135482fb8e04cde56076c8c": {
      "model_module": "@jupyter-widgets/base",
      "model_module_version": "1.2.0",
      "model_name": "LayoutModel",
      "state": {
       "width": "190px"
      }
     },
     "c9d67e100c1a40a0a716d656aebecd33": {
      "model_module": "@jupyter-widgets/base",
      "model_module_version": "1.2.0",
      "model_name": "LayoutModel",
      "state": {
       "width": "70px"
      }
     },
     "cb6bfe195f6e4e1aaa7b75b16e55d24a": {
      "model_module": "@jupyter-widgets/base",
      "model_module_version": "1.2.0",
      "model_name": "LayoutModel",
      "state": {}
     },
     "d47790c739054b8f808b3b239afaae83": {
      "model_module": "@jupyter-widgets/base",
      "model_module_version": "1.2.0",
      "model_name": "LayoutModel",
      "state": {
       "grid_template_areas": "\n                                       \". . . . right \"\n                                        ",
       "grid_template_columns": "20% 20% 20% 20% 20%",
       "width": "100%"
      }
     },
     "df755e5226e74d18bf321c8de8988a19": {
      "model_module": "@jupyter-widgets/controls",
      "model_module_version": "1.5.0",
      "model_name": "GridBoxModel",
      "state": {
       "children": [
        "IPY_MODEL_e326789954044ba5a1ed671c0081cd14"
       ],
       "layout": "IPY_MODEL_d47790c739054b8f808b3b239afaae83"
      }
     },
     "e326789954044ba5a1ed671c0081cd14": {
      "model_module": "@jupyter-widgets/controls",
      "model_module_version": "1.5.0",
      "model_name": "ButtonModel",
      "state": {
       "button_style": "primary",
       "description": "Clear",
       "layout": "IPY_MODEL_8ffc82e90506493782b38352d91379c6",
       "style": "IPY_MODEL_43859a46cfff428cabf051fc5de2b582"
      }
     },
     "eb1fd2e083e24a98991c3cc2125f5afd": {
      "model_module": "@jupyter-widgets/controls",
      "model_module_version": "1.5.0",
      "model_name": "HBoxModel",
      "state": {
       "children": [
        "IPY_MODEL_571fa101b4fc4c50980e83a842a13191",
        "IPY_MODEL_59c7dbde60de46f7876c44345cb36793",
        "IPY_MODEL_7006183f11c74f12b6b47e990f9027ae",
        "IPY_MODEL_f09692c93b38401d950bac1b8bbe74bf",
        "IPY_MODEL_74b41b7317c04c409a09b47ea58f24a1"
       ],
       "layout": "IPY_MODEL_73a729f3506a4e3198aedb698b3d98c7"
      }
     },
     "f09692c93b38401d950bac1b8bbe74bf": {
      "model_module": "@jupyter-widgets/controls",
      "model_module_version": "1.5.0",
      "model_name": "HTMLModel",
      "state": {
       "layout": "IPY_MODEL_c9d67e100c1a40a0a716d656aebecd33",
       "style": "IPY_MODEL_02395208397644138797d75d7b934fc1",
       "value": "<h5>Queue</h5>"
      }
     },
     "f4a856138ca44036b707a22db1f97279": {
      "model_module": "@jupyter-widgets/controls",
      "model_module_version": "1.5.0",
      "model_name": "DescriptionStyleModel",
      "state": {
       "description_width": ""
      }
     },
     "f968e6550ddf4d6b9c9ad997847c94b8": {
      "model_module": "@jupyter-widgets/controls",
      "model_module_version": "1.5.0",
      "model_name": "DescriptionStyleModel",
      "state": {
       "description_width": ""
      }
     }
    },
    "version_major": 2,
    "version_minor": 0
   }
  }
 },
 "nbformat": 4,
 "nbformat_minor": 5
}
